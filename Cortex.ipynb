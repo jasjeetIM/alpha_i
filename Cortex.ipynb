{
 "cells": [
  {
   "cell_type": "code",
   "execution_count": 1,
   "metadata": {},
   "outputs": [],
   "source": [
    "import numpy as np\n",
    "from multiprocessing.dummy import Pool as ThreadPool\n",
    "import time\n",
    "from scipy.sparse import csr_matrix\n",
    "from scipy.sparse.csgraph import shortest_path\n",
    "import sys\n",
    "from neuron import NeuronType, Neuron\n",
    "from util import *\n",
    "from hyperparams import *\n",
    "import matplotlib.pyplot as plt\n",
    "from PIL import Image\n",
    "import joblib\n",
    "import gc\n",
    "import gym\n",
    "%load_ext autoreload\n",
    "%autoreload 2"
   ]
  },
  {
   "cell_type": "code",
   "execution_count": 2,
   "metadata": {},
   "outputs": [],
   "source": [
    "columnIdCount = 0\n",
    "\n",
    "columnIdCount, V1_levelToColumns, V1_parentEdges, V1_childEdges, V1_siblingEdges = generateColumnTree(V1_numRoots, V1_numLevels, V1_offspring_prob,V1_parent_prob, V1_sibling_prob, V1_mu_offspring, columnIdCount)\n",
    "V1_num_columns = columnIdCount\n",
    "V1_columns = range(columnIdCount)\n",
    "columnIdCount, Thalmus_levelToColumns, Thalmus_parentEdges, Thalmus_childEdges, Thalmus_siblingEdges = generateColumnTree(Thalmus_numRoots, Thalmus_numLevels, Thalmus_offspring_prob,Thalmus_parent_prob, Thalmus_sibling_prob, Thalmus_mu_offspring, columnIdCount)\n",
    "Thalmus_num_columns = columnIdCount - V1_num_columns\n",
    "Thalmus_columns = range(V1_num_columns, columnIdCount)\n",
    "columnIdCount, Motor_levelToColumns, Motor_parentEdges, Motor_childEdges, Motor_siblingEdges = generateColumnTree(Motor_numRoots, Motor_numLevels, Motor_offspring_prob,Motor_parent_prob, Motor_sibling_prob, Motor_mu_offspring,columnIdCount)\n",
    "Motor_num_columns = columnIdCount - (V1_num_columns + Thalmus_num_columns)\n",
    "Motor_columns = range(V1_num_columns + Thalmus_num_columns, columnIdCount)\n",
    "\n",
    "columnIdCount, HC_levelToColumns, HC_parentEdges, HC_childEdges, HC_siblingEdges = generateColumnTree(HC_numRoots, HC_numLevels, HC_offspring_prob,HC_parent_prob, HC_sibling_prob, HC_mu_offspring, columnIdCount)\n",
    "HC_num_columns = columnIdCount - (V1_num_columns + Thalmus_num_columns + Motor_num_columns)\n",
    "HC_columns = range(V1_num_columns + Thalmus_num_columns + Motor_num_columns, columnIdCount)\n"
   ]
  },
  {
   "cell_type": "code",
   "execution_count": 3,
   "metadata": {},
   "outputs": [],
   "source": [
    "num_layers = 6\n",
    "prob_by_ntype_by_layer = getNeuronBirthProb(birth_alpha_by_ntype, num_layers)\n",
    "prob_inhib_by_layer = getInhibNeuronBirthProb(inhibitory_alpha, num_layers)\n",
    "num_neurons_by_layer = getNumNeuronsByLayer(mu_num_neurons_top, variance_param, mu_num_neurons_other, num_layers)\n",
    "count_by_ntype_by_layer = getCountByNtypeByLayer(prob_by_ntype_by_layer, num_neurons_by_layer, num_layers)\n"
   ]
  },
  {
   "cell_type": "code",
   "execution_count": 4,
   "metadata": {},
   "outputs": [
    {
     "name": "stdout",
     "output_type": "stream",
     "text": [
      "Total Neurons: 37800, Total Inhib: 8349, Total Excite: 29451\n"
     ]
    }
   ],
   "source": [
    "layerToNeuron = {}\n",
    "columnToLayer = {}\n",
    "layerIdToNum = {}\n",
    "neuronIdToNeuron = {}\n",
    "trans=[]\n",
    "neuronId = 0\n",
    "layerId = 0\n",
    "columnId = 0\n",
    "counter = 0\n",
    "prob_inhib_top_layer = 1.0\n",
    "\n",
    "\n",
    "#V1\n",
    "neuronId, layerId, columnId,trans = buildColumnToLayer(V1_columns,prob_inhib_top_layer, prob_inhib_by_layer,count_by_ntype_by_layer, neuronId, layerId, columnId,columnToLayer, layerToNeuron, layerIdToNum,neuronIdToNeuron, trans,num_layers)\n",
    "neuronId, layerId, columnId,trans = buildColumnToLayer(Thalmus_columns,prob_inhib_top_layer,prob_inhib_by_layer,count_by_ntype_by_layer, neuronId, layerId, columnId,columnToLayer,layerToNeuron, layerIdToNum,neuronIdToNeuron,trans, num_layers)\n",
    "neuronId, layerId, columnId,trans = buildColumnToLayer(Motor_columns,prob_inhib_top_layer,prob_inhib_by_layer, count_by_ntype_by_layer, neuronId, layerId, columnId,columnToLayer,layerToNeuron, layerIdToNum,neuronIdToNeuron, trans,num_layers)\n",
    "neuronId, layerId, columnId,trans = buildColumnToLayer(HC_columns,prob_inhib_top_layer,prob_inhib_by_layer, count_by_ntype_by_layer, neuronId, layerId, columnId,columnToLayer,layerToNeuron, layerIdToNum,neuronIdToNeuron, trans,num_layers)\n",
    "trans = np.array(trans)\n",
    "assert len(trans) == neuronId\n",
    "print('Total Neurons: {}, Total Inhib: {}, Total Excite: {}'.format(neuronId,len(np.where(trans < 0)[0]), len(np.where(trans > 0)[0])))"
   ]
  },
  {
   "cell_type": "code",
   "execution_count": 5,
   "metadata": {},
   "outputs": [],
   "source": [
    "memory = 10\n",
    "p_excite = 0.5\n",
    "spikes = np.random.choice(a=[True, False], size=(neuronId,memory), p=[p_excite, 1 - p_excite])\n",
    "v = np.clip(100*np.random.random((neuronId, memory)).astype(np.float16) - 70, -70., 30.)\n",
    "u = -20*np.random.random((neuronId,memory)).astype(np.float16)\n",
    "neighbors = np.zeros((neuronId, neuronId), dtype=np.float16)"
   ]
  },
  {
   "cell_type": "code",
   "execution_count": 6,
   "metadata": {},
   "outputs": [
    {
     "name": "stdout",
     "output_type": "stream",
     "text": [
      "Added 94222 connections\n",
      "Added 534222 connections\n",
      "Added 99418 connections\n",
      "Added 88116 connections\n",
      "Total Connections: 815978\n"
     ]
    }
   ],
   "source": [
    "numConnections = 0\n",
    "numConnections = connectRegion(V1_columns, V1_parentEdges, V1_siblingEdges, V1_childEdges, columnToLayer,layerIdToNum,sameCol, parentCol,childCol, sibCol, layerToNeuron, neighbors, numConnections)\n",
    "numConnections = connectRegion(Thalmus_columns, Thalmus_parentEdges, Thalmus_siblingEdges, Thalmus_childEdges, columnToLayer,layerIdToNum,sameCol, parentCol,childCol, sibCol, layerToNeuron, neighbors, numConnections)\n",
    "numConnections = connectRegion(Motor_columns,Motor_parentEdges, Motor_siblingEdges, Motor_childEdges, columnToLayer,layerIdToNum,sameCol, parentCol,childCol, sibCol, layerToNeuron, neighbors, numConnections)\n",
    "numConnections = connectRegion(HC_columns, HC_parentEdges, HC_siblingEdges, HC_childEdges, columnToLayer,layerIdToNum,sameCol, parentCol,childCol, sibCol, layerToNeuron, neighbors, numConnections)\n",
    "print('Total Connections: {}'.format(numConnections))"
   ]
  },
  {
   "cell_type": "code",
   "execution_count": 7,
   "metadata": {},
   "outputs": [
    {
     "name": "stdout",
     "output_type": "stream",
     "text": [
      "Total Neurons: 105840\n"
     ]
    }
   ],
   "source": [
    "input_layer, output_layer, input_layer_inhib = 3, 1, 0\n",
    "\n",
    "#Generate Vision neurons\n",
    "vision_neurons = generateVisionNeurons()\n",
    "print('Total Neurons: {}'.format(np.prod(vision_neurons.shape)))"
   ]
  },
  {
   "cell_type": "code",
   "execution_count": 8,
   "metadata": {},
   "outputs": [],
   "source": [
    "k, stride = 21,9\n",
    "vision_adj, vision_adj_idx_to_neuronId = connectVisionNeurons(Thalmus_levelToColumns, columnToLayer, layerToNeuron,vision_neurons, k, stride)"
   ]
  },
  {
   "cell_type": "code",
   "execution_count": 9,
   "metadata": {},
   "outputs": [
    {
     "name": "stdout",
     "output_type": "stream",
     "text": [
      "Total connections added: 174662\n",
      "Total connections added: 7147\n",
      "Total connections added: 12322\n",
      "Total connections added: 12186\n",
      "Total connections added: 1148\n",
      "Total connections added: 158457\n",
      "Total connections added: 158925\n",
      "Total connections added: 3674\n",
      "Total connections added: 315\n",
      "Total connections added: 47652\n",
      "Total connections added: 47667\n",
      "Total connections added: 308\n"
     ]
    }
   ],
   "source": [
    "# Connect Thalmus to V1\n",
    "connectRegions(Thalmus_levelToColumns, V1_levelToColumns,outputlevels['TH_V1'], inputlevels['TH_V1'], output_layer, input_layer,columnToLayer, layerToNeuron,neighbors)\n",
    "\n",
    "#Connect V1 to Thalmus\n",
    "connectRegions(V1_levelToColumns, Thalmus_levelToColumns, outputlevels['V1_TH'], inputlevels['V1_TH'], output_layer, input_layer_inhib,columnToLayer, layerToNeuron,neighbors)\n",
    "\n",
    "\n",
    "#Connect HC to V1\n",
    "connectRegions(HC_levelToColumns, V1_levelToColumns, outputlevels['HC_V1'], inputlevels['HC_V1'], output_layer, input_layer,columnToLayer, layerToNeuron,neighbors)\n",
    "\n",
    "\n",
    "#Connect V1 to HC-regular\n",
    "connectRegions(V1_levelToColumns, HC_levelToColumns, outputlevels['V1_HC'], inputlevels['V1_HC'], output_layer, input_layer,columnToLayer, layerToNeuron,neighbors)\n",
    "\n",
    "#Connect V1 to HC-inhib\n",
    "connectRegions(V1_levelToColumns, HC_levelToColumns, outputlevels['V1_HC'], inputlevels['V1_HC'], output_layer, input_layer_inhib,columnToLayer, layerToNeuron,neighbors)\n",
    "\n",
    "\n",
    "#Connect Thalmus to HC\n",
    "connectRegions(Thalmus_levelToColumns, HC_levelToColumns, outputlevels['TH_HC'], inputlevels['TH_HC'], output_layer, input_layer,columnToLayer, layerToNeuron,neighbors)\n",
    "\n",
    "#Connect HC to Thalmus\n",
    "connectRegions(HC_levelToColumns, Thalmus_levelToColumns, outputlevels['HC_TH'], inputlevels['HC_TH'], output_layer, input_layer,columnToLayer, layerToNeuron,neighbors)\n",
    "\n",
    "#Connect V1 to Motor-reg\n",
    "connectRegions(V1_levelToColumns, Motor_levelToColumns, outputlevels['V1_MT'], inputlevels['V1_MT'], output_layer, input_layer,columnToLayer, layerToNeuron,neighbors)\n",
    "\n",
    "#Connect V1 to Motor-inhib\n",
    "connectRegions(V1_levelToColumns, Motor_levelToColumns, outputlevels['V1_MT'], inputlevels['V1_MT'], output_layer, input_layer_inhib,columnToLayer, layerToNeuron,neighbors)\n",
    "\n",
    "#Connect Motor to Thalmus\n",
    "connectRegions(Motor_levelToColumns, Thalmus_levelToColumns, outputlevels['MT_TH'], inputlevels['MT_TH'], output_layer, input_layer,columnToLayer, layerToNeuron,neighbors)\n",
    "\n",
    "#Connect Thalmus to Motor\n",
    "connectRegions(Thalmus_levelToColumns, Motor_levelToColumns, outputlevels['TH_MT'], inputlevels['TH_MT'], output_layer, input_layer,columnToLayer, layerToNeuron,neighbors)\n",
    "\n",
    "#Connect Motor to Thalmus\n",
    "connectRegions(V1_levelToColumns, Motor_levelToColumns, outputlevels['V1_MT'], inputlevels['V1_MT'], output_layer, input_layer_inhib,columnToLayer, layerToNeuron,neighbors)\n",
    "\n",
    "\n"
   ]
  },
  {
   "cell_type": "code",
   "execution_count": 10,
   "metadata": {},
   "outputs": [
    {
     "name": "stdout",
     "output_type": "stream",
     "text": [
      "38.73\n"
     ]
    }
   ],
   "source": [
    "ss = 0.0\n",
    "for i in range(100):\n",
    "    idx = np.random.choice(range(25000),1)\n",
    "    ss+=len(np.nonzero(neighbors[idx])[0])\n",
    "print(ss/100.)"
   ]
  },
  {
   "cell_type": "code",
   "execution_count": 11,
   "metadata": {},
   "outputs": [],
   "source": [
    "imitations = joblib.load('imitations_half.lib')\n",
    "bins = list(np.arange(0,256,17))\n",
    "window_size = 3\n",
    "#Initialize gradient descent data strucuters\n",
    "dv_dw, dv_dv, idx_to_nid,nid_to_idx = getGradientDataStruc(Motor_columns, columnToLayer,layerToNeuron, window_size)\n",
    "dv_dw*=np.nan\n",
    "dv_dv*=np.nan\n",
    "#Create adjacency dictionary for Motor only\n",
    "adj_motor = {}\n",
    "for col in Motor_columns:\n",
    "    for l in range(num_layers):\n",
    "        layer = columnToLayer[col][l] #send actions via layer 6\n",
    "        for neuron_id in layerToNeuron[layer]:\n",
    "            adj_motor[neuron_id] = np.nonzero(neighbors[neuron_id])[0]\n",
    "\n",
    "\n",
    "vision_spikes = np.zeros(vision_adj.shape[1], dtype=np.float16)\n",
    "globalTime = 0"
   ]
  },
  {
   "cell_type": "code",
   "execution_count": null,
   "metadata": {
    "scrolled": false
   },
   "outputs": [
    {
     "name": "stdout",
     "output_type": "stream",
     "text": [
      "I_vision: 939.5, I: -4812.0, Spikes: 530\n"
     ]
    }
   ],
   "source": [
    "# Train\n",
    "for episode in imitations:\n",
    "    observations, actions = episode[0], episode[1]\n",
    "    for j in range(len(observations)):\n",
    "        obs,act = observations[j], actions[j][0]\n",
    "        idx = globalTime % memory\n",
    "        #Get vision spikes\n",
    "        start = time.time()\n",
    "        vision_spikes = activateVisionNeurons(obs, bins, vision_neurons, vision_spikes)\n",
    "        #print(np.sum(vision_spikes), np.sum(vision_adj))\n",
    "        #print('Vision spikes: {}'.format(time.time() - start))\n",
    "        #Vision Current \n",
    "        start = time.time()\n",
    "        I_vision = np.dot(vision_adj, vision_spikes)\n",
    "        #print('I_vision: {}'.format(np.sum(I_vision)))\n",
    "        #print('I_vision: {}'.format(time.time() - start))\n",
    "        #General cortex\n",
    "        start = time.time()\n",
    "        #I = np.dot(neighbors, spikes[:,idx-1])\n",
    "        I = np.zeros((neighbors.shape[0]),dtype=np.float16)\n",
    "        #non_zero_spikes = set(np.nonzero(spikes[:,idx-1])[0].tolist())\n",
    "        non_zero_spikes = np.nonzero(spikes[:,idx-1])[0]\n",
    "        for spike_col in non_zero_spikes:\n",
    "            I+= neighbors[:,spike_col]*trans[spike_col]\n",
    "            #print(np.sum(I))\n",
    "        \n",
    "        \n",
    "        \n",
    "#         for i in range(neighbors.shape[0]):\n",
    "#             I_i=0.0\n",
    "#             neigh = np.nonzero(neighbors[i])[0]\n",
    "#             for n in neigh:\n",
    "#                 if n in non_zero_spikes:\n",
    "#                     I_i+= neighbors[i,n]*spikes[n,idx-1]\n",
    "#             I[i] = I_i\n",
    "        #print('I: {}'.format(np.sum(I)))\n",
    "        #print('I: {}'.format(time.time() - start))\n",
    "        #Dynamics\n",
    "        start = time.time()\n",
    "        dv_dt = 0.04*v[:,idx-1]**2 + 5*v[:,idx-1] + 140 - u[:,idx-1] + I    \n",
    "        #print('dv_dt: {}'.format(time.time() - start))\n",
    "        # Add I_vision\n",
    "        start = time.time()\n",
    "        for i in range(vision_adj.shape[0]):\n",
    "            dv_dt[vision_adj_idx_to_neuronId[i]]+=I_vision[i]\n",
    "        #print('dv_dt[vision_adj_idx_to_neuronId[i]]: {}'.format(time.time() - start))\n",
    "        \n",
    "        #Dynamics\n",
    "        start = time.time()\n",
    "        du_dt = dynamics[0][\"a\"]*(dynamics[0][\"b\"]*v[:,idx-1]- u[:,idx-1])\n",
    "        #print('du_dt: {}'.format(time.time() - start))\n",
    "        \n",
    "        start = time.time()\n",
    "        v[:,idx] = v[:,idx-1] + lr_params[\"alpha\"]*dv_dt\n",
    "        #print('Update v: {}'.format(time.time() - start))\n",
    "        \n",
    "        start = time.time()\n",
    "        u[:,idx] = u[:,idx-1] +  lr_params[\"alpha\"]*du_dt\n",
    "        #print('Update u: {}'.format(time.time() - start))\n",
    "        \n",
    "        start = time.time()\n",
    "        np.clip(v[:,idx], -70.0, 30.0)\n",
    "        #print('clip v: {}'.format(time.time() - start))\n",
    "\n",
    "        #Get Spikes\n",
    "        start = time.time()\n",
    "        temp_v = v[:,idx]\n",
    "        spikes[:,idx] = 0\n",
    "        spikes[np.where(temp_v >= 30),idx] = 1\n",
    "        print('I_vision: {}, I: {}, Spikes: {}'.format(np.sum(I_vision), np.sum(I), np.sum(spikes[:,idx])))\n",
    "        #print('generate spikes: {}'.format(time.time() - start))\n",
    "        #Reset v and u as required\n",
    "        start = time.time()\n",
    "        u[temp_v >= 30,idx] +=  dynamics[0][\"d\"]\n",
    "        #print('reset u: {}'.format(time.time() - start))\n",
    "        \n",
    "        start = time.time()\n",
    "        v[temp_v>= 30,idx] = dynamics[0][\"c\"]\n",
    "        #print('reset v: {}'.format(time.time() - start))\n",
    "        \n",
    "        # Get Action\n",
    "        start = time.time()\n",
    "        action = getOutput(Motor_levelToColumns,columnToLayer, layerToNeuron,spikes[:,idx], trans,num_classes =3)\n",
    "        #print('Get output: {}'.format(time.time() - start))\n",
    "        #Perform STDP\n",
    "        if (globalTime+1) % 5 == 0:\n",
    "            start = time.time()\n",
    "            neighbors=stdp(neighbors, spikes, adj_motor, idx, memory)\n",
    "            #print('Do STDP: {}'.format(time.time() - start))\n",
    "        \n",
    "        \n",
    "        # Perform gradient descent\n",
    "        if (globalTime+1) % 10 == 0:\n",
    "            start = time.time()\n",
    "            neighbors = gradientDescent(act, Motor_levelToColumns,columnToLayer, layerToNeuron,adj_motor,\n",
    "                        idx_to_nid, nid_to_idx, spikes, trans, dv_dv, dv_dw, idx, window_size,\n",
    "                         neighbors, v)\n",
    "           # print('Do GD: {}'.format(time.time() - start))\n",
    "        \n",
    "        globalTime+=1\n",
    "    "
   ]
  },
  {
   "cell_type": "code",
   "execution_count": null,
   "metadata": {},
   "outputs": [],
   "source": [
    "#Generate training data for imitation learning\n",
    "# obs, act = np.zeros((10000, 84, 84), dtype=np.uint8), np.zeros((10000,1), dtype=np.uint8)\n",
    "# env = gym.make(\"Pong-v4\")\n",
    "# #print(env._action_set)\n",
    "# history_size = 49\n",
    "# clip_size = 5\n",
    "# observation = env.reset()\n",
    "# imitations = []\n",
    "# counter = 0\n",
    "# num_frames = 1000000000\n",
    "# for i in range(1000000000):\n",
    "#     env.render()\n",
    "#     action = env.action_space.sample() # your agent here (this takes random actions)\n",
    "#     observation, reward, done, info = env.step(action)\n",
    "#     obs[counter] = resizeFrame(observation)\n",
    "#     act[counter] = action\n",
    "#     if reward > 0.0:\n",
    "#         if counter - history_size >= 0:\n",
    "#             batch = (np.copy(obs[counter-history_size:counter-clip_size]), np.copy(act[counter-history_size:counter-clip_size]))\n",
    "#         else:\n",
    "#             batch = (np.copy(obs[:counter+1]), np.copy(act[:counter+1]))\n",
    "#         imitations.append(batch)\n",
    "#         print('Idx: {}'.format(counter))\n",
    "#     counter+=1\n",
    "#     if counter > 9999:\n",
    "#         counter = 0\n",
    "        \n",
    "#     if done:\n",
    "#         observation = env.reset()\n",
    "# env.close()"
   ]
  }
 ],
 "metadata": {
  "kernelspec": {
   "display_name": "Python 3",
   "language": "python",
   "name": "python3"
  },
  "language_info": {
   "codemirror_mode": {
    "name": "ipython",
    "version": 3
   },
   "file_extension": ".py",
   "mimetype": "text/x-python",
   "name": "python",
   "nbconvert_exporter": "python",
   "pygments_lexer": "ipython3",
   "version": "3.6.9"
  }
 },
 "nbformat": 4,
 "nbformat_minor": 2
}
